{
  "nbformat": 4,
  "nbformat_minor": 0,
  "metadata": {
    "colab": {
      "provenance": [],
      "include_colab_link": true
    },
    "kernelspec": {
      "name": "python3",
      "display_name": "Python 3"
    },
    "language_info": {
      "name": "python"
    }
  },
  "cells": [
    {
      "cell_type": "markdown",
      "metadata": {
        "id": "view-in-github",
        "colab_type": "text"
      },
      "source": [
        "<a href=\"https://colab.research.google.com/github/Hanan-1997/WEEK1/blob/main/Copy_of_How_to_find_Correlations_in_Data_ipynb_(1).ipynb\" target=\"_parent\"><img src=\"https://colab.research.google.com/assets/colab-badge.svg\" alt=\"Open In Colab\"/></a>"
      ]
    },
    {
      "cell_type": "markdown",
      "source": [
        "\n",
        "### **Hi , we will learn how to find a Correlation in our datasets.**\n",
        "\n",
        "### **Let's get started: **"
      ],
      "metadata": {
        "id": "6nRoR1Uc3QNp"
      }
    },
    {
      "cell_type": "markdown",
      "source": [
        "### **Import our Libraries**"
      ],
      "metadata": {
        "id": "1N4N2IvJ4KhA"
      }
    },
    {
      "cell_type": "code",
      "source": [
        "import pandas as pd # To read and analysis our data\n",
        "import seaborn as sns # to see correlation in the dataset using Heat map\n",
        "import matplotlib.pyplot as plt # to Visualize our dataset\n"
      ],
      "metadata": {
        "id": "_IjYLWyr38-y"
      },
      "execution_count": null,
      "outputs": []
    },
    {
      "cell_type": "markdown",
      "source": [
        "### **Read data set and display our dataset**\n",
        "\n"
      ],
      "metadata": {
        "id": "6vMCSbw74hwt"
      }
    },
    {
      "cell_type": "code",
      "execution_count": null,
      "metadata": {
        "colab": {
          "base_uri": "https://localhost:8080/",
          "height": 582
        },
        "id": "0CyCuzb33Lsn",
        "outputId": "a9319bd5-c35d-40f6-84e7-1bc287294356"
      },
      "outputs": [
        {
          "output_type": "execute_result",
          "data": {
            "text/plain": [
              "       Unnamed: 0  Gender EthnicGroup          ParentEduc     LunchType  \\\n",
              "0               0  female         NaN   bachelor's degree      standard   \n",
              "1               1  female     group C        some college      standard   \n",
              "2               2  female     group B     master's degree      standard   \n",
              "3               3    male     group A  associate's degree  free/reduced   \n",
              "4               4    male     group C        some college      standard   \n",
              "...           ...     ...         ...                 ...           ...   \n",
              "30636         816  female     group D         high school      standard   \n",
              "30637         890    male     group E         high school      standard   \n",
              "30638         911  female         NaN         high school  free/reduced   \n",
              "30639         934  female     group D  associate's degree      standard   \n",
              "30640         960    male     group B        some college      standard   \n",
              "\n",
              "        TestPrep ParentMaritalStatus PracticeSport IsFirstChild  NrSiblings  \\\n",
              "0           none             married     regularly          yes         3.0   \n",
              "1            NaN             married     sometimes          yes         0.0   \n",
              "2           none              single     sometimes          yes         4.0   \n",
              "3           none             married         never           no         1.0   \n",
              "4           none             married     sometimes          yes         0.0   \n",
              "...          ...                 ...           ...          ...         ...   \n",
              "30636       none              single     sometimes           no         2.0   \n",
              "30637       none              single     regularly           no         1.0   \n",
              "30638  completed             married     sometimes           no         1.0   \n",
              "30639  completed             married     regularly           no         3.0   \n",
              "30640       none             married         never           no         1.0   \n",
              "\n",
              "      TransportMeans WklyStudyHours  MathScore  ReadingScore  WritingScore  \n",
              "0         school_bus            < 5         71            71            74  \n",
              "1                NaN         5 - 10         69            90            88  \n",
              "2         school_bus            < 5         87            93            91  \n",
              "3                NaN         5 - 10         45            56            42  \n",
              "4         school_bus         5 - 10         76            78            75  \n",
              "...              ...            ...        ...           ...           ...  \n",
              "30636     school_bus         5 - 10         59            61            65  \n",
              "30637        private         5 - 10         58            53            51  \n",
              "30638        private         5 - 10         61            70            67  \n",
              "30639     school_bus         5 - 10         82            90            93  \n",
              "30640     school_bus         5 - 10         64            60            58  \n",
              "\n",
              "[30641 rows x 15 columns]"
            ],
            "text/html": [
              "\n",
              "  <div id=\"df-53a7939a-5a21-4111-9211-11e8d22ccd81\" class=\"colab-df-container\">\n",
              "    <div>\n",
              "<style scoped>\n",
              "    .dataframe tbody tr th:only-of-type {\n",
              "        vertical-align: middle;\n",
              "    }\n",
              "\n",
              "    .dataframe tbody tr th {\n",
              "        vertical-align: top;\n",
              "    }\n",
              "\n",
              "    .dataframe thead th {\n",
              "        text-align: right;\n",
              "    }\n",
              "</style>\n",
              "<table border=\"1\" class=\"dataframe\">\n",
              "  <thead>\n",
              "    <tr style=\"text-align: right;\">\n",
              "      <th></th>\n",
              "      <th>Unnamed: 0</th>\n",
              "      <th>Gender</th>\n",
              "      <th>EthnicGroup</th>\n",
              "      <th>ParentEduc</th>\n",
              "      <th>LunchType</th>\n",
              "      <th>TestPrep</th>\n",
              "      <th>ParentMaritalStatus</th>\n",
              "      <th>PracticeSport</th>\n",
              "      <th>IsFirstChild</th>\n",
              "      <th>NrSiblings</th>\n",
              "      <th>TransportMeans</th>\n",
              "      <th>WklyStudyHours</th>\n",
              "      <th>MathScore</th>\n",
              "      <th>ReadingScore</th>\n",
              "      <th>WritingScore</th>\n",
              "    </tr>\n",
              "  </thead>\n",
              "  <tbody>\n",
              "    <tr>\n",
              "      <th>0</th>\n",
              "      <td>0</td>\n",
              "      <td>female</td>\n",
              "      <td>NaN</td>\n",
              "      <td>bachelor's degree</td>\n",
              "      <td>standard</td>\n",
              "      <td>none</td>\n",
              "      <td>married</td>\n",
              "      <td>regularly</td>\n",
              "      <td>yes</td>\n",
              "      <td>3.0</td>\n",
              "      <td>school_bus</td>\n",
              "      <td>&lt; 5</td>\n",
              "      <td>71</td>\n",
              "      <td>71</td>\n",
              "      <td>74</td>\n",
              "    </tr>\n",
              "    <tr>\n",
              "      <th>1</th>\n",
              "      <td>1</td>\n",
              "      <td>female</td>\n",
              "      <td>group C</td>\n",
              "      <td>some college</td>\n",
              "      <td>standard</td>\n",
              "      <td>NaN</td>\n",
              "      <td>married</td>\n",
              "      <td>sometimes</td>\n",
              "      <td>yes</td>\n",
              "      <td>0.0</td>\n",
              "      <td>NaN</td>\n",
              "      <td>5 - 10</td>\n",
              "      <td>69</td>\n",
              "      <td>90</td>\n",
              "      <td>88</td>\n",
              "    </tr>\n",
              "    <tr>\n",
              "      <th>2</th>\n",
              "      <td>2</td>\n",
              "      <td>female</td>\n",
              "      <td>group B</td>\n",
              "      <td>master's degree</td>\n",
              "      <td>standard</td>\n",
              "      <td>none</td>\n",
              "      <td>single</td>\n",
              "      <td>sometimes</td>\n",
              "      <td>yes</td>\n",
              "      <td>4.0</td>\n",
              "      <td>school_bus</td>\n",
              "      <td>&lt; 5</td>\n",
              "      <td>87</td>\n",
              "      <td>93</td>\n",
              "      <td>91</td>\n",
              "    </tr>\n",
              "    <tr>\n",
              "      <th>3</th>\n",
              "      <td>3</td>\n",
              "      <td>male</td>\n",
              "      <td>group A</td>\n",
              "      <td>associate's degree</td>\n",
              "      <td>free/reduced</td>\n",
              "      <td>none</td>\n",
              "      <td>married</td>\n",
              "      <td>never</td>\n",
              "      <td>no</td>\n",
              "      <td>1.0</td>\n",
              "      <td>NaN</td>\n",
              "      <td>5 - 10</td>\n",
              "      <td>45</td>\n",
              "      <td>56</td>\n",
              "      <td>42</td>\n",
              "    </tr>\n",
              "    <tr>\n",
              "      <th>4</th>\n",
              "      <td>4</td>\n",
              "      <td>male</td>\n",
              "      <td>group C</td>\n",
              "      <td>some college</td>\n",
              "      <td>standard</td>\n",
              "      <td>none</td>\n",
              "      <td>married</td>\n",
              "      <td>sometimes</td>\n",
              "      <td>yes</td>\n",
              "      <td>0.0</td>\n",
              "      <td>school_bus</td>\n",
              "      <td>5 - 10</td>\n",
              "      <td>76</td>\n",
              "      <td>78</td>\n",
              "      <td>75</td>\n",
              "    </tr>\n",
              "    <tr>\n",
              "      <th>...</th>\n",
              "      <td>...</td>\n",
              "      <td>...</td>\n",
              "      <td>...</td>\n",
              "      <td>...</td>\n",
              "      <td>...</td>\n",
              "      <td>...</td>\n",
              "      <td>...</td>\n",
              "      <td>...</td>\n",
              "      <td>...</td>\n",
              "      <td>...</td>\n",
              "      <td>...</td>\n",
              "      <td>...</td>\n",
              "      <td>...</td>\n",
              "      <td>...</td>\n",
              "      <td>...</td>\n",
              "    </tr>\n",
              "    <tr>\n",
              "      <th>30636</th>\n",
              "      <td>816</td>\n",
              "      <td>female</td>\n",
              "      <td>group D</td>\n",
              "      <td>high school</td>\n",
              "      <td>standard</td>\n",
              "      <td>none</td>\n",
              "      <td>single</td>\n",
              "      <td>sometimes</td>\n",
              "      <td>no</td>\n",
              "      <td>2.0</td>\n",
              "      <td>school_bus</td>\n",
              "      <td>5 - 10</td>\n",
              "      <td>59</td>\n",
              "      <td>61</td>\n",
              "      <td>65</td>\n",
              "    </tr>\n",
              "    <tr>\n",
              "      <th>30637</th>\n",
              "      <td>890</td>\n",
              "      <td>male</td>\n",
              "      <td>group E</td>\n",
              "      <td>high school</td>\n",
              "      <td>standard</td>\n",
              "      <td>none</td>\n",
              "      <td>single</td>\n",
              "      <td>regularly</td>\n",
              "      <td>no</td>\n",
              "      <td>1.0</td>\n",
              "      <td>private</td>\n",
              "      <td>5 - 10</td>\n",
              "      <td>58</td>\n",
              "      <td>53</td>\n",
              "      <td>51</td>\n",
              "    </tr>\n",
              "    <tr>\n",
              "      <th>30638</th>\n",
              "      <td>911</td>\n",
              "      <td>female</td>\n",
              "      <td>NaN</td>\n",
              "      <td>high school</td>\n",
              "      <td>free/reduced</td>\n",
              "      <td>completed</td>\n",
              "      <td>married</td>\n",
              "      <td>sometimes</td>\n",
              "      <td>no</td>\n",
              "      <td>1.0</td>\n",
              "      <td>private</td>\n",
              "      <td>5 - 10</td>\n",
              "      <td>61</td>\n",
              "      <td>70</td>\n",
              "      <td>67</td>\n",
              "    </tr>\n",
              "    <tr>\n",
              "      <th>30639</th>\n",
              "      <td>934</td>\n",
              "      <td>female</td>\n",
              "      <td>group D</td>\n",
              "      <td>associate's degree</td>\n",
              "      <td>standard</td>\n",
              "      <td>completed</td>\n",
              "      <td>married</td>\n",
              "      <td>regularly</td>\n",
              "      <td>no</td>\n",
              "      <td>3.0</td>\n",
              "      <td>school_bus</td>\n",
              "      <td>5 - 10</td>\n",
              "      <td>82</td>\n",
              "      <td>90</td>\n",
              "      <td>93</td>\n",
              "    </tr>\n",
              "    <tr>\n",
              "      <th>30640</th>\n",
              "      <td>960</td>\n",
              "      <td>male</td>\n",
              "      <td>group B</td>\n",
              "      <td>some college</td>\n",
              "      <td>standard</td>\n",
              "      <td>none</td>\n",
              "      <td>married</td>\n",
              "      <td>never</td>\n",
              "      <td>no</td>\n",
              "      <td>1.0</td>\n",
              "      <td>school_bus</td>\n",
              "      <td>5 - 10</td>\n",
              "      <td>64</td>\n",
              "      <td>60</td>\n",
              "      <td>58</td>\n",
              "    </tr>\n",
              "  </tbody>\n",
              "</table>\n",
              "<p>30641 rows × 15 columns</p>\n",
              "</div>\n",
              "    <div class=\"colab-df-buttons\">\n",
              "\n",
              "  <div class=\"colab-df-container\">\n",
              "    <button class=\"colab-df-convert\" onclick=\"convertToInteractive('df-53a7939a-5a21-4111-9211-11e8d22ccd81')\"\n",
              "            title=\"Convert this dataframe to an interactive table.\"\n",
              "            style=\"display:none;\">\n",
              "\n",
              "  <svg xmlns=\"http://www.w3.org/2000/svg\" height=\"24px\" viewBox=\"0 -960 960 960\">\n",
              "    <path d=\"M120-120v-720h720v720H120Zm60-500h600v-160H180v160Zm220 220h160v-160H400v160Zm0 220h160v-160H400v160ZM180-400h160v-160H180v160Zm440 0h160v-160H620v160ZM180-180h160v-160H180v160Zm440 0h160v-160H620v160Z\"/>\n",
              "  </svg>\n",
              "    </button>\n",
              "\n",
              "  <style>\n",
              "    .colab-df-container {\n",
              "      display:flex;\n",
              "      gap: 12px;\n",
              "    }\n",
              "\n",
              "    .colab-df-convert {\n",
              "      background-color: #E8F0FE;\n",
              "      border: none;\n",
              "      border-radius: 50%;\n",
              "      cursor: pointer;\n",
              "      display: none;\n",
              "      fill: #1967D2;\n",
              "      height: 32px;\n",
              "      padding: 0 0 0 0;\n",
              "      width: 32px;\n",
              "    }\n",
              "\n",
              "    .colab-df-convert:hover {\n",
              "      background-color: #E2EBFA;\n",
              "      box-shadow: 0px 1px 2px rgba(60, 64, 67, 0.3), 0px 1px 3px 1px rgba(60, 64, 67, 0.15);\n",
              "      fill: #174EA6;\n",
              "    }\n",
              "\n",
              "    .colab-df-buttons div {\n",
              "      margin-bottom: 4px;\n",
              "    }\n",
              "\n",
              "    [theme=dark] .colab-df-convert {\n",
              "      background-color: #3B4455;\n",
              "      fill: #D2E3FC;\n",
              "    }\n",
              "\n",
              "    [theme=dark] .colab-df-convert:hover {\n",
              "      background-color: #434B5C;\n",
              "      box-shadow: 0px 1px 3px 1px rgba(0, 0, 0, 0.15);\n",
              "      filter: drop-shadow(0px 1px 2px rgba(0, 0, 0, 0.3));\n",
              "      fill: #FFFFFF;\n",
              "    }\n",
              "  </style>\n",
              "\n",
              "    <script>\n",
              "      const buttonEl =\n",
              "        document.querySelector('#df-53a7939a-5a21-4111-9211-11e8d22ccd81 button.colab-df-convert');\n",
              "      buttonEl.style.display =\n",
              "        google.colab.kernel.accessAllowed ? 'block' : 'none';\n",
              "\n",
              "      async function convertToInteractive(key) {\n",
              "        const element = document.querySelector('#df-53a7939a-5a21-4111-9211-11e8d22ccd81');\n",
              "        const dataTable =\n",
              "          await google.colab.kernel.invokeFunction('convertToInteractive',\n",
              "                                                    [key], {});\n",
              "        if (!dataTable) return;\n",
              "\n",
              "        const docLinkHtml = 'Like what you see? Visit the ' +\n",
              "          '<a target=\"_blank\" href=https://colab.research.google.com/notebooks/data_table.ipynb>data table notebook</a>'\n",
              "          + ' to learn more about interactive tables.';\n",
              "        element.innerHTML = '';\n",
              "        dataTable['output_type'] = 'display_data';\n",
              "        await google.colab.output.renderOutput(dataTable, element);\n",
              "        const docLink = document.createElement('div');\n",
              "        docLink.innerHTML = docLinkHtml;\n",
              "        element.appendChild(docLink);\n",
              "      }\n",
              "    </script>\n",
              "  </div>\n",
              "\n",
              "\n",
              "<div id=\"df-ae79c87f-e0e0-48f0-8dde-4e86add0d019\">\n",
              "  <button class=\"colab-df-quickchart\" onclick=\"quickchart('df-ae79c87f-e0e0-48f0-8dde-4e86add0d019')\"\n",
              "            title=\"Suggest charts\"\n",
              "            style=\"display:none;\">\n",
              "\n",
              "<svg xmlns=\"http://www.w3.org/2000/svg\" height=\"24px\"viewBox=\"0 0 24 24\"\n",
              "     width=\"24px\">\n",
              "    <g>\n",
              "        <path d=\"M19 3H5c-1.1 0-2 .9-2 2v14c0 1.1.9 2 2 2h14c1.1 0 2-.9 2-2V5c0-1.1-.9-2-2-2zM9 17H7v-7h2v7zm4 0h-2V7h2v10zm4 0h-2v-4h2v4z\"/>\n",
              "    </g>\n",
              "</svg>\n",
              "  </button>\n",
              "\n",
              "<style>\n",
              "  .colab-df-quickchart {\n",
              "      --bg-color: #E8F0FE;\n",
              "      --fill-color: #1967D2;\n",
              "      --hover-bg-color: #E2EBFA;\n",
              "      --hover-fill-color: #174EA6;\n",
              "      --disabled-fill-color: #AAA;\n",
              "      --disabled-bg-color: #DDD;\n",
              "  }\n",
              "\n",
              "  [theme=dark] .colab-df-quickchart {\n",
              "      --bg-color: #3B4455;\n",
              "      --fill-color: #D2E3FC;\n",
              "      --hover-bg-color: #434B5C;\n",
              "      --hover-fill-color: #FFFFFF;\n",
              "      --disabled-bg-color: #3B4455;\n",
              "      --disabled-fill-color: #666;\n",
              "  }\n",
              "\n",
              "  .colab-df-quickchart {\n",
              "    background-color: var(--bg-color);\n",
              "    border: none;\n",
              "    border-radius: 50%;\n",
              "    cursor: pointer;\n",
              "    display: none;\n",
              "    fill: var(--fill-color);\n",
              "    height: 32px;\n",
              "    padding: 0;\n",
              "    width: 32px;\n",
              "  }\n",
              "\n",
              "  .colab-df-quickchart:hover {\n",
              "    background-color: var(--hover-bg-color);\n",
              "    box-shadow: 0 1px 2px rgba(60, 64, 67, 0.3), 0 1px 3px 1px rgba(60, 64, 67, 0.15);\n",
              "    fill: var(--button-hover-fill-color);\n",
              "  }\n",
              "\n",
              "  .colab-df-quickchart-complete:disabled,\n",
              "  .colab-df-quickchart-complete:disabled:hover {\n",
              "    background-color: var(--disabled-bg-color);\n",
              "    fill: var(--disabled-fill-color);\n",
              "    box-shadow: none;\n",
              "  }\n",
              "\n",
              "  .colab-df-spinner {\n",
              "    border: 2px solid var(--fill-color);\n",
              "    border-color: transparent;\n",
              "    border-bottom-color: var(--fill-color);\n",
              "    animation:\n",
              "      spin 1s steps(1) infinite;\n",
              "  }\n",
              "\n",
              "  @keyframes spin {\n",
              "    0% {\n",
              "      border-color: transparent;\n",
              "      border-bottom-color: var(--fill-color);\n",
              "      border-left-color: var(--fill-color);\n",
              "    }\n",
              "    20% {\n",
              "      border-color: transparent;\n",
              "      border-left-color: var(--fill-color);\n",
              "      border-top-color: var(--fill-color);\n",
              "    }\n",
              "    30% {\n",
              "      border-color: transparent;\n",
              "      border-left-color: var(--fill-color);\n",
              "      border-top-color: var(--fill-color);\n",
              "      border-right-color: var(--fill-color);\n",
              "    }\n",
              "    40% {\n",
              "      border-color: transparent;\n",
              "      border-right-color: var(--fill-color);\n",
              "      border-top-color: var(--fill-color);\n",
              "    }\n",
              "    60% {\n",
              "      border-color: transparent;\n",
              "      border-right-color: var(--fill-color);\n",
              "    }\n",
              "    80% {\n",
              "      border-color: transparent;\n",
              "      border-right-color: var(--fill-color);\n",
              "      border-bottom-color: var(--fill-color);\n",
              "    }\n",
              "    90% {\n",
              "      border-color: transparent;\n",
              "      border-bottom-color: var(--fill-color);\n",
              "    }\n",
              "  }\n",
              "</style>\n",
              "\n",
              "  <script>\n",
              "    async function quickchart(key) {\n",
              "      const quickchartButtonEl =\n",
              "        document.querySelector('#' + key + ' button');\n",
              "      quickchartButtonEl.disabled = true;  // To prevent multiple clicks.\n",
              "      quickchartButtonEl.classList.add('colab-df-spinner');\n",
              "      try {\n",
              "        const charts = await google.colab.kernel.invokeFunction(\n",
              "            'suggestCharts', [key], {});\n",
              "      } catch (error) {\n",
              "        console.error('Error during call to suggestCharts:', error);\n",
              "      }\n",
              "      quickchartButtonEl.classList.remove('colab-df-spinner');\n",
              "      quickchartButtonEl.classList.add('colab-df-quickchart-complete');\n",
              "    }\n",
              "    (() => {\n",
              "      let quickchartButtonEl =\n",
              "        document.querySelector('#df-ae79c87f-e0e0-48f0-8dde-4e86add0d019 button');\n",
              "      quickchartButtonEl.style.display =\n",
              "        google.colab.kernel.accessAllowed ? 'block' : 'none';\n",
              "    })();\n",
              "  </script>\n",
              "</div>\n",
              "\n",
              "  <div id=\"id_0e282f5b-3ed8-479f-b115-6cb6eeb17a60\">\n",
              "    <style>\n",
              "      .colab-df-generate {\n",
              "        background-color: #E8F0FE;\n",
              "        border: none;\n",
              "        border-radius: 50%;\n",
              "        cursor: pointer;\n",
              "        display: none;\n",
              "        fill: #1967D2;\n",
              "        height: 32px;\n",
              "        padding: 0 0 0 0;\n",
              "        width: 32px;\n",
              "      }\n",
              "\n",
              "      .colab-df-generate:hover {\n",
              "        background-color: #E2EBFA;\n",
              "        box-shadow: 0px 1px 2px rgba(60, 64, 67, 0.3), 0px 1px 3px 1px rgba(60, 64, 67, 0.15);\n",
              "        fill: #174EA6;\n",
              "      }\n",
              "\n",
              "      [theme=dark] .colab-df-generate {\n",
              "        background-color: #3B4455;\n",
              "        fill: #D2E3FC;\n",
              "      }\n",
              "\n",
              "      [theme=dark] .colab-df-generate:hover {\n",
              "        background-color: #434B5C;\n",
              "        box-shadow: 0px 1px 3px 1px rgba(0, 0, 0, 0.15);\n",
              "        filter: drop-shadow(0px 1px 2px rgba(0, 0, 0, 0.3));\n",
              "        fill: #FFFFFF;\n",
              "      }\n",
              "    </style>\n",
              "    <button class=\"colab-df-generate\" onclick=\"generateWithVariable('df')\"\n",
              "            title=\"Generate code using this dataframe.\"\n",
              "            style=\"display:none;\">\n",
              "\n",
              "  <svg xmlns=\"http://www.w3.org/2000/svg\" height=\"24px\"viewBox=\"0 0 24 24\"\n",
              "       width=\"24px\">\n",
              "    <path d=\"M7,19H8.4L18.45,9,17,7.55,7,17.6ZM5,21V16.75L18.45,3.32a2,2,0,0,1,2.83,0l1.4,1.43a1.91,1.91,0,0,1,.58,1.4,1.91,1.91,0,0,1-.58,1.4L9.25,21ZM18.45,9,17,7.55Zm-12,3A5.31,5.31,0,0,0,4.9,8.1,5.31,5.31,0,0,0,1,6.5,5.31,5.31,0,0,0,4.9,4.9,5.31,5.31,0,0,0,6.5,1,5.31,5.31,0,0,0,8.1,4.9,5.31,5.31,0,0,0,12,6.5,5.46,5.46,0,0,0,6.5,12Z\"/>\n",
              "  </svg>\n",
              "    </button>\n",
              "    <script>\n",
              "      (() => {\n",
              "      const buttonEl =\n",
              "        document.querySelector('#id_0e282f5b-3ed8-479f-b115-6cb6eeb17a60 button.colab-df-generate');\n",
              "      buttonEl.style.display =\n",
              "        google.colab.kernel.accessAllowed ? 'block' : 'none';\n",
              "\n",
              "      buttonEl.onclick = () => {\n",
              "        google.colab.notebook.generateWithVariable('df');\n",
              "      }\n",
              "      })();\n",
              "    </script>\n",
              "  </div>\n",
              "\n",
              "    </div>\n",
              "  </div>\n"
            ],
            "application/vnd.google.colaboratory.intrinsic+json": {
              "type": "dataframe",
              "variable_name": "df",
              "summary": "{\n  \"name\": \"df\",\n  \"rows\": 30641,\n  \"fields\": [\n    {\n      \"column\": \"Unnamed: 0\",\n      \"properties\": {\n        \"dtype\": \"number\",\n        \"std\": 288,\n        \"min\": 0,\n        \"max\": 999,\n        \"num_unique_values\": 1000,\n        \"samples\": [\n          549,\n          773,\n          776\n        ],\n        \"semantic_type\": \"\",\n        \"description\": \"\"\n      }\n    },\n    {\n      \"column\": \"Gender\",\n      \"properties\": {\n        \"dtype\": \"category\",\n        \"num_unique_values\": 2,\n        \"samples\": [\n          \"male\",\n          \"female\"\n        ],\n        \"semantic_type\": \"\",\n        \"description\": \"\"\n      }\n    },\n    {\n      \"column\": \"EthnicGroup\",\n      \"properties\": {\n        \"dtype\": \"category\",\n        \"num_unique_values\": 5,\n        \"samples\": [\n          \"group B\",\n          \"group E\"\n        ],\n        \"semantic_type\": \"\",\n        \"description\": \"\"\n      }\n    },\n    {\n      \"column\": \"ParentEduc\",\n      \"properties\": {\n        \"dtype\": \"category\",\n        \"num_unique_values\": 6,\n        \"samples\": [\n          \"bachelor's degree\",\n          \"some college\"\n        ],\n        \"semantic_type\": \"\",\n        \"description\": \"\"\n      }\n    },\n    {\n      \"column\": \"LunchType\",\n      \"properties\": {\n        \"dtype\": \"category\",\n        \"num_unique_values\": 2,\n        \"samples\": [\n          \"free/reduced\",\n          \"standard\"\n        ],\n        \"semantic_type\": \"\",\n        \"description\": \"\"\n      }\n    },\n    {\n      \"column\": \"TestPrep\",\n      \"properties\": {\n        \"dtype\": \"category\",\n        \"num_unique_values\": 2,\n        \"samples\": [\n          \"completed\",\n          \"none\"\n        ],\n        \"semantic_type\": \"\",\n        \"description\": \"\"\n      }\n    },\n    {\n      \"column\": \"ParentMaritalStatus\",\n      \"properties\": {\n        \"dtype\": \"category\",\n        \"num_unique_values\": 4,\n        \"samples\": [\n          \"single\",\n          \"divorced\"\n        ],\n        \"semantic_type\": \"\",\n        \"description\": \"\"\n      }\n    },\n    {\n      \"column\": \"PracticeSport\",\n      \"properties\": {\n        \"dtype\": \"category\",\n        \"num_unique_values\": 3,\n        \"samples\": [\n          \"regularly\",\n          \"sometimes\"\n        ],\n        \"semantic_type\": \"\",\n        \"description\": \"\"\n      }\n    },\n    {\n      \"column\": \"IsFirstChild\",\n      \"properties\": {\n        \"dtype\": \"category\",\n        \"num_unique_values\": 2,\n        \"samples\": [\n          \"no\",\n          \"yes\"\n        ],\n        \"semantic_type\": \"\",\n        \"description\": \"\"\n      }\n    },\n    {\n      \"column\": \"NrSiblings\",\n      \"properties\": {\n        \"dtype\": \"number\",\n        \"std\": 1.4582424759686543,\n        \"min\": 0.0,\n        \"max\": 7.0,\n        \"num_unique_values\": 8,\n        \"samples\": [\n          0.0,\n          5.0\n        ],\n        \"semantic_type\": \"\",\n        \"description\": \"\"\n      }\n    },\n    {\n      \"column\": \"TransportMeans\",\n      \"properties\": {\n        \"dtype\": \"category\",\n        \"num_unique_values\": 2,\n        \"samples\": [\n          \"private\",\n          \"school_bus\"\n        ],\n        \"semantic_type\": \"\",\n        \"description\": \"\"\n      }\n    },\n    {\n      \"column\": \"WklyStudyHours\",\n      \"properties\": {\n        \"dtype\": \"category\",\n        \"num_unique_values\": 3,\n        \"samples\": [\n          \"< 5\",\n          \"5 - 10\"\n        ],\n        \"semantic_type\": \"\",\n        \"description\": \"\"\n      }\n    },\n    {\n      \"column\": \"MathScore\",\n      \"properties\": {\n        \"dtype\": \"number\",\n        \"std\": 15,\n        \"min\": 0,\n        \"max\": 100,\n        \"num_unique_values\": 95,\n        \"samples\": [\n          36,\n          70\n        ],\n        \"semantic_type\": \"\",\n        \"description\": \"\"\n      }\n    },\n    {\n      \"column\": \"ReadingScore\",\n      \"properties\": {\n        \"dtype\": \"number\",\n        \"std\": 14,\n        \"min\": 10,\n        \"max\": 100,\n        \"num_unique_values\": 90,\n        \"samples\": [\n          48,\n          65\n        ],\n        \"semantic_type\": \"\",\n        \"description\": \"\"\n      }\n    },\n    {\n      \"column\": \"WritingScore\",\n      \"properties\": {\n        \"dtype\": \"number\",\n        \"std\": 15,\n        \"min\": 4,\n        \"max\": 100,\n        \"num_unique_values\": 93,\n        \"samples\": [\n          10,\n          76\n        ],\n        \"semantic_type\": \"\",\n        \"description\": \"\"\n      }\n    }\n  ]\n}"
            }
          },
          "metadata": {},
          "execution_count": 57
        }
      ],
      "source": [
        "df = pd.read_csv(\"/content/Expanded_data_with_more_features (1).csv\")\n",
        "df"
      ]
    },
    {
      "cell_type": "code",
      "source": [
        "df.info()"
      ],
      "metadata": {
        "colab": {
          "base_uri": "https://localhost:8080/"
        },
        "id": "z1vCfAHo5cQo",
        "outputId": "22c69d33-1738-4450-a673-dc1a162f9b9e"
      },
      "execution_count": null,
      "outputs": [
        {
          "output_type": "stream",
          "name": "stdout",
          "text": [
            "<class 'pandas.core.frame.DataFrame'>\n",
            "RangeIndex: 30641 entries, 0 to 30640\n",
            "Data columns (total 15 columns):\n",
            " #   Column               Non-Null Count  Dtype  \n",
            "---  ------               --------------  -----  \n",
            " 0   Unnamed: 0           30641 non-null  int64  \n",
            " 1   Gender               30641 non-null  object \n",
            " 2   EthnicGroup          28801 non-null  object \n",
            " 3   ParentEduc           28796 non-null  object \n",
            " 4   LunchType            30641 non-null  object \n",
            " 5   TestPrep             28811 non-null  object \n",
            " 6   ParentMaritalStatus  29451 non-null  object \n",
            " 7   PracticeSport        30010 non-null  object \n",
            " 8   IsFirstChild         29737 non-null  object \n",
            " 9   NrSiblings           29069 non-null  float64\n",
            " 10  TransportMeans       27507 non-null  object \n",
            " 11  WklyStudyHours       29686 non-null  object \n",
            " 12  MathScore            30641 non-null  int64  \n",
            " 13  ReadingScore         30641 non-null  int64  \n",
            " 14  WritingScore         30641 non-null  int64  \n",
            "dtypes: float64(1), int64(4), object(10)\n",
            "memory usage: 3.5+ MB\n"
          ]
        }
      ]
    },
    {
      "cell_type": "markdown",
      "source": [
        "### **Explanation of the Dataset**"
      ],
      "metadata": {
        "id": "fX3o-ODz41pq"
      }
    },
    {
      "cell_type": "markdown",
      "source": [
        "so we have 14 Columns , we can see that this is a Dataset for students preformence.\n",
        "\n",
        "`Gender` : Male or Female.\n",
        "\n",
        "`EthnicGroup` : which group this student belongs to.\n",
        "\n",
        "`ParentEduc` : Education of parents students.\n",
        "\n",
        "`LunchType` : Launch type of the students.\n",
        "\n",
        "`TestPrep` : do the student do a test prepreation before the exam or not.\n",
        "\n",
        "`ParentMaritalStatus` : is the parents married or devorsed.\n",
        "\n",
        "`PracticeSport` : dose the student practies support or not.\n",
        "\n",
        "`IsFirstChild` : is this student the first child [Y/N].\n",
        "\n",
        "`NrSiblings` : Number of sbilings.\n",
        "\n",
        "`TransportMeans ` : How do the students go to school.\n",
        "\n",
        "\n",
        "`WklyStudyHours` : Number of Hours they studes Weekly.\n",
        "\n",
        "`MathScore` : Degree in math test.\n",
        "\n",
        "`ReadingScore`: Degree in English Reading test.   \n",
        "\n",
        "`WritingScore` : Degree in English Writing test.\n",
        "\n",
        "\n",
        "\n",
        "\n",
        "\n",
        "\n",
        "\n",
        "\n",
        "\n",
        "\n",
        "\n",
        "\n",
        "\n",
        "\n",
        "\n",
        "\n",
        "\n"
      ],
      "metadata": {
        "id": "wJ57RPBF5fx0"
      }
    },
    {
      "cell_type": "markdown",
      "source": [
        "## **Let's do some EDA :**"
      ],
      "metadata": {
        "id": "8BOv6nnC8Sly"
      }
    },
    {
      "cell_type": "code",
      "source": [
        "df.isnull().sum()"
      ],
      "metadata": {
        "colab": {
          "base_uri": "https://localhost:8080/"
        },
        "id": "kmdy-7hU8Rqv",
        "outputId": "d297e412-9f66-4b45-addf-96370185d46e"
      },
      "execution_count": null,
      "outputs": [
        {
          "output_type": "execute_result",
          "data": {
            "text/plain": [
              "Unnamed: 0                0\n",
              "Gender                    0\n",
              "EthnicGroup            1840\n",
              "ParentEduc             1845\n",
              "LunchType                 0\n",
              "TestPrep               1830\n",
              "ParentMaritalStatus    1190\n",
              "PracticeSport           631\n",
              "IsFirstChild            904\n",
              "NrSiblings             1572\n",
              "TransportMeans         3134\n",
              "WklyStudyHours          955\n",
              "MathScore                 0\n",
              "ReadingScore              0\n",
              "WritingScore              0\n",
              "dtype: int64"
            ]
          },
          "metadata": {},
          "execution_count": 42
        }
      ]
    },
    {
      "cell_type": "markdown",
      "source": [
        "### **we have so many nulls value ...**\n",
        "\n",
        "### **let's handle them :**"
      ],
      "metadata": {
        "id": "8kvC5QI18dum"
      }
    },
    {
      "cell_type": "code",
      "source": [
        "df[\"EthnicGroup\"].fillna(\"Other\" , inplace =True)\n",
        "# if they don't belong to any existing group that's mean they belong to 'Other' Gropups"
      ],
      "metadata": {
        "id": "9g0dU6lP6ATr"
      },
      "execution_count": null,
      "outputs": []
    },
    {
      "cell_type": "code",
      "source": [
        "df[\"ParentEduc\"].fillna(\"Other\" , inplace =True)\n",
        "# if they don't have any existing Education that's mean they belong to 'Other'parent Education"
      ],
      "metadata": {
        "id": "22o1_tO-4vGj"
      },
      "execution_count": null,
      "outputs": []
    },
    {
      "cell_type": "code",
      "source": [
        "df[\"TestPrep\"].mode()\n",
        "#check the mode if it's possible to fill it with mode."
      ],
      "metadata": {
        "colab": {
          "base_uri": "https://localhost:8080/"
        },
        "id": "9yDrBDpZ9goO",
        "outputId": "e6a81b20-fbbe-426a-d0fb-6a8b05903c74"
      },
      "execution_count": null,
      "outputs": [
        {
          "output_type": "execute_result",
          "data": {
            "text/plain": [
              "0    none\n",
              "Name: TestPrep, dtype: object"
            ]
          },
          "metadata": {},
          "execution_count": 45
        }
      ]
    },
    {
      "cell_type": "code",
      "source": [
        "df[\"TestPrep\"].fillna(\"Unkown\" , inplace =True)\n",
        "#Fill the null with 'Unkown' 'cause we don't know if they did the test prep or no."
      ],
      "metadata": {
        "id": "fMiVnX8X91T5"
      },
      "execution_count": null,
      "outputs": []
    },
    {
      "cell_type": "code",
      "source": [
        "df['NrSiblings'] = df['NrSiblings'].astype(pd.Int64Dtype())\n",
        "#change type of Number of Siblings to int so we can see the max , min , mean and count\n",
        "#let's describe df"
      ],
      "metadata": {
        "id": "Q2lPGTfq-B-v"
      },
      "execution_count": null,
      "outputs": []
    },
    {
      "cell_type": "code",
      "source": [
        "df.describe()"
      ],
      "metadata": {
        "colab": {
          "base_uri": "https://localhost:8080/",
          "height": 300
        },
        "id": "EMvkK8_K-aLq",
        "outputId": "af9b5343-e2ce-4991-e409-f2a976efe515"
      },
      "execution_count": null,
      "outputs": [
        {
          "output_type": "execute_result",
          "data": {
            "text/plain": [
              "         Unnamed: 0  NrSiblings     MathScore  ReadingScore  WritingScore\n",
              "count  30641.000000     29069.0  30641.000000  30641.000000  30641.000000\n",
              "mean     499.556607    2.145894     66.558402     69.377533     68.418622\n",
              "std      288.747894    1.458242     15.361616     14.758952     15.443525\n",
              "min        0.000000         0.0      0.000000     10.000000      4.000000\n",
              "25%      249.000000         1.0     56.000000     59.000000     58.000000\n",
              "50%      500.000000         2.0     67.000000     70.000000     69.000000\n",
              "75%      750.000000         3.0     78.000000     80.000000     79.000000\n",
              "max      999.000000         7.0    100.000000    100.000000    100.000000"
            ],
            "text/html": [
              "\n",
              "  <div id=\"df-f73e4035-47de-4754-a6e1-4748b6fe9e02\" class=\"colab-df-container\">\n",
              "    <div>\n",
              "<style scoped>\n",
              "    .dataframe tbody tr th:only-of-type {\n",
              "        vertical-align: middle;\n",
              "    }\n",
              "\n",
              "    .dataframe tbody tr th {\n",
              "        vertical-align: top;\n",
              "    }\n",
              "\n",
              "    .dataframe thead th {\n",
              "        text-align: right;\n",
              "    }\n",
              "</style>\n",
              "<table border=\"1\" class=\"dataframe\">\n",
              "  <thead>\n",
              "    <tr style=\"text-align: right;\">\n",
              "      <th></th>\n",
              "      <th>Unnamed: 0</th>\n",
              "      <th>NrSiblings</th>\n",
              "      <th>MathScore</th>\n",
              "      <th>ReadingScore</th>\n",
              "      <th>WritingScore</th>\n",
              "    </tr>\n",
              "  </thead>\n",
              "  <tbody>\n",
              "    <tr>\n",
              "      <th>count</th>\n",
              "      <td>30641.000000</td>\n",
              "      <td>29069.0</td>\n",
              "      <td>30641.000000</td>\n",
              "      <td>30641.000000</td>\n",
              "      <td>30641.000000</td>\n",
              "    </tr>\n",
              "    <tr>\n",
              "      <th>mean</th>\n",
              "      <td>499.556607</td>\n",
              "      <td>2.145894</td>\n",
              "      <td>66.558402</td>\n",
              "      <td>69.377533</td>\n",
              "      <td>68.418622</td>\n",
              "    </tr>\n",
              "    <tr>\n",
              "      <th>std</th>\n",
              "      <td>288.747894</td>\n",
              "      <td>1.458242</td>\n",
              "      <td>15.361616</td>\n",
              "      <td>14.758952</td>\n",
              "      <td>15.443525</td>\n",
              "    </tr>\n",
              "    <tr>\n",
              "      <th>min</th>\n",
              "      <td>0.000000</td>\n",
              "      <td>0.0</td>\n",
              "      <td>0.000000</td>\n",
              "      <td>10.000000</td>\n",
              "      <td>4.000000</td>\n",
              "    </tr>\n",
              "    <tr>\n",
              "      <th>25%</th>\n",
              "      <td>249.000000</td>\n",
              "      <td>1.0</td>\n",
              "      <td>56.000000</td>\n",
              "      <td>59.000000</td>\n",
              "      <td>58.000000</td>\n",
              "    </tr>\n",
              "    <tr>\n",
              "      <th>50%</th>\n",
              "      <td>500.000000</td>\n",
              "      <td>2.0</td>\n",
              "      <td>67.000000</td>\n",
              "      <td>70.000000</td>\n",
              "      <td>69.000000</td>\n",
              "    </tr>\n",
              "    <tr>\n",
              "      <th>75%</th>\n",
              "      <td>750.000000</td>\n",
              "      <td>3.0</td>\n",
              "      <td>78.000000</td>\n",
              "      <td>80.000000</td>\n",
              "      <td>79.000000</td>\n",
              "    </tr>\n",
              "    <tr>\n",
              "      <th>max</th>\n",
              "      <td>999.000000</td>\n",
              "      <td>7.0</td>\n",
              "      <td>100.000000</td>\n",
              "      <td>100.000000</td>\n",
              "      <td>100.000000</td>\n",
              "    </tr>\n",
              "  </tbody>\n",
              "</table>\n",
              "</div>\n",
              "    <div class=\"colab-df-buttons\">\n",
              "\n",
              "  <div class=\"colab-df-container\">\n",
              "    <button class=\"colab-df-convert\" onclick=\"convertToInteractive('df-f73e4035-47de-4754-a6e1-4748b6fe9e02')\"\n",
              "            title=\"Convert this dataframe to an interactive table.\"\n",
              "            style=\"display:none;\">\n",
              "\n",
              "  <svg xmlns=\"http://www.w3.org/2000/svg\" height=\"24px\" viewBox=\"0 -960 960 960\">\n",
              "    <path d=\"M120-120v-720h720v720H120Zm60-500h600v-160H180v160Zm220 220h160v-160H400v160Zm0 220h160v-160H400v160ZM180-400h160v-160H180v160Zm440 0h160v-160H620v160ZM180-180h160v-160H180v160Zm440 0h160v-160H620v160Z\"/>\n",
              "  </svg>\n",
              "    </button>\n",
              "\n",
              "  <style>\n",
              "    .colab-df-container {\n",
              "      display:flex;\n",
              "      gap: 12px;\n",
              "    }\n",
              "\n",
              "    .colab-df-convert {\n",
              "      background-color: #E8F0FE;\n",
              "      border: none;\n",
              "      border-radius: 50%;\n",
              "      cursor: pointer;\n",
              "      display: none;\n",
              "      fill: #1967D2;\n",
              "      height: 32px;\n",
              "      padding: 0 0 0 0;\n",
              "      width: 32px;\n",
              "    }\n",
              "\n",
              "    .colab-df-convert:hover {\n",
              "      background-color: #E2EBFA;\n",
              "      box-shadow: 0px 1px 2px rgba(60, 64, 67, 0.3), 0px 1px 3px 1px rgba(60, 64, 67, 0.15);\n",
              "      fill: #174EA6;\n",
              "    }\n",
              "\n",
              "    .colab-df-buttons div {\n",
              "      margin-bottom: 4px;\n",
              "    }\n",
              "\n",
              "    [theme=dark] .colab-df-convert {\n",
              "      background-color: #3B4455;\n",
              "      fill: #D2E3FC;\n",
              "    }\n",
              "\n",
              "    [theme=dark] .colab-df-convert:hover {\n",
              "      background-color: #434B5C;\n",
              "      box-shadow: 0px 1px 3px 1px rgba(0, 0, 0, 0.15);\n",
              "      filter: drop-shadow(0px 1px 2px rgba(0, 0, 0, 0.3));\n",
              "      fill: #FFFFFF;\n",
              "    }\n",
              "  </style>\n",
              "\n",
              "    <script>\n",
              "      const buttonEl =\n",
              "        document.querySelector('#df-f73e4035-47de-4754-a6e1-4748b6fe9e02 button.colab-df-convert');\n",
              "      buttonEl.style.display =\n",
              "        google.colab.kernel.accessAllowed ? 'block' : 'none';\n",
              "\n",
              "      async function convertToInteractive(key) {\n",
              "        const element = document.querySelector('#df-f73e4035-47de-4754-a6e1-4748b6fe9e02');\n",
              "        const dataTable =\n",
              "          await google.colab.kernel.invokeFunction('convertToInteractive',\n",
              "                                                    [key], {});\n",
              "        if (!dataTable) return;\n",
              "\n",
              "        const docLinkHtml = 'Like what you see? Visit the ' +\n",
              "          '<a target=\"_blank\" href=https://colab.research.google.com/notebooks/data_table.ipynb>data table notebook</a>'\n",
              "          + ' to learn more about interactive tables.';\n",
              "        element.innerHTML = '';\n",
              "        dataTable['output_type'] = 'display_data';\n",
              "        await google.colab.output.renderOutput(dataTable, element);\n",
              "        const docLink = document.createElement('div');\n",
              "        docLink.innerHTML = docLinkHtml;\n",
              "        element.appendChild(docLink);\n",
              "      }\n",
              "    </script>\n",
              "  </div>\n",
              "\n",
              "\n",
              "<div id=\"df-5f402846-2a21-4925-a843-18d07896bfaf\">\n",
              "  <button class=\"colab-df-quickchart\" onclick=\"quickchart('df-5f402846-2a21-4925-a843-18d07896bfaf')\"\n",
              "            title=\"Suggest charts\"\n",
              "            style=\"display:none;\">\n",
              "\n",
              "<svg xmlns=\"http://www.w3.org/2000/svg\" height=\"24px\"viewBox=\"0 0 24 24\"\n",
              "     width=\"24px\">\n",
              "    <g>\n",
              "        <path d=\"M19 3H5c-1.1 0-2 .9-2 2v14c0 1.1.9 2 2 2h14c1.1 0 2-.9 2-2V5c0-1.1-.9-2-2-2zM9 17H7v-7h2v7zm4 0h-2V7h2v10zm4 0h-2v-4h2v4z\"/>\n",
              "    </g>\n",
              "</svg>\n",
              "  </button>\n",
              "\n",
              "<style>\n",
              "  .colab-df-quickchart {\n",
              "      --bg-color: #E8F0FE;\n",
              "      --fill-color: #1967D2;\n",
              "      --hover-bg-color: #E2EBFA;\n",
              "      --hover-fill-color: #174EA6;\n",
              "      --disabled-fill-color: #AAA;\n",
              "      --disabled-bg-color: #DDD;\n",
              "  }\n",
              "\n",
              "  [theme=dark] .colab-df-quickchart {\n",
              "      --bg-color: #3B4455;\n",
              "      --fill-color: #D2E3FC;\n",
              "      --hover-bg-color: #434B5C;\n",
              "      --hover-fill-color: #FFFFFF;\n",
              "      --disabled-bg-color: #3B4455;\n",
              "      --disabled-fill-color: #666;\n",
              "  }\n",
              "\n",
              "  .colab-df-quickchart {\n",
              "    background-color: var(--bg-color);\n",
              "    border: none;\n",
              "    border-radius: 50%;\n",
              "    cursor: pointer;\n",
              "    display: none;\n",
              "    fill: var(--fill-color);\n",
              "    height: 32px;\n",
              "    padding: 0;\n",
              "    width: 32px;\n",
              "  }\n",
              "\n",
              "  .colab-df-quickchart:hover {\n",
              "    background-color: var(--hover-bg-color);\n",
              "    box-shadow: 0 1px 2px rgba(60, 64, 67, 0.3), 0 1px 3px 1px rgba(60, 64, 67, 0.15);\n",
              "    fill: var(--button-hover-fill-color);\n",
              "  }\n",
              "\n",
              "  .colab-df-quickchart-complete:disabled,\n",
              "  .colab-df-quickchart-complete:disabled:hover {\n",
              "    background-color: var(--disabled-bg-color);\n",
              "    fill: var(--disabled-fill-color);\n",
              "    box-shadow: none;\n",
              "  }\n",
              "\n",
              "  .colab-df-spinner {\n",
              "    border: 2px solid var(--fill-color);\n",
              "    border-color: transparent;\n",
              "    border-bottom-color: var(--fill-color);\n",
              "    animation:\n",
              "      spin 1s steps(1) infinite;\n",
              "  }\n",
              "\n",
              "  @keyframes spin {\n",
              "    0% {\n",
              "      border-color: transparent;\n",
              "      border-bottom-color: var(--fill-color);\n",
              "      border-left-color: var(--fill-color);\n",
              "    }\n",
              "    20% {\n",
              "      border-color: transparent;\n",
              "      border-left-color: var(--fill-color);\n",
              "      border-top-color: var(--fill-color);\n",
              "    }\n",
              "    30% {\n",
              "      border-color: transparent;\n",
              "      border-left-color: var(--fill-color);\n",
              "      border-top-color: var(--fill-color);\n",
              "      border-right-color: var(--fill-color);\n",
              "    }\n",
              "    40% {\n",
              "      border-color: transparent;\n",
              "      border-right-color: var(--fill-color);\n",
              "      border-top-color: var(--fill-color);\n",
              "    }\n",
              "    60% {\n",
              "      border-color: transparent;\n",
              "      border-right-color: var(--fill-color);\n",
              "    }\n",
              "    80% {\n",
              "      border-color: transparent;\n",
              "      border-right-color: var(--fill-color);\n",
              "      border-bottom-color: var(--fill-color);\n",
              "    }\n",
              "    90% {\n",
              "      border-color: transparent;\n",
              "      border-bottom-color: var(--fill-color);\n",
              "    }\n",
              "  }\n",
              "</style>\n",
              "\n",
              "  <script>\n",
              "    async function quickchart(key) {\n",
              "      const quickchartButtonEl =\n",
              "        document.querySelector('#' + key + ' button');\n",
              "      quickchartButtonEl.disabled = true;  // To prevent multiple clicks.\n",
              "      quickchartButtonEl.classList.add('colab-df-spinner');\n",
              "      try {\n",
              "        const charts = await google.colab.kernel.invokeFunction(\n",
              "            'suggestCharts', [key], {});\n",
              "      } catch (error) {\n",
              "        console.error('Error during call to suggestCharts:', error);\n",
              "      }\n",
              "      quickchartButtonEl.classList.remove('colab-df-spinner');\n",
              "      quickchartButtonEl.classList.add('colab-df-quickchart-complete');\n",
              "    }\n",
              "    (() => {\n",
              "      let quickchartButtonEl =\n",
              "        document.querySelector('#df-5f402846-2a21-4925-a843-18d07896bfaf button');\n",
              "      quickchartButtonEl.style.display =\n",
              "        google.colab.kernel.accessAllowed ? 'block' : 'none';\n",
              "    })();\n",
              "  </script>\n",
              "</div>\n",
              "\n",
              "    </div>\n",
              "  </div>\n"
            ],
            "application/vnd.google.colaboratory.intrinsic+json": {
              "type": "dataframe",
              "summary": "{\n  \"name\": \"df\",\n  \"rows\": 8,\n  \"fields\": [\n    {\n      \"column\": \"Unnamed: 0\",\n      \"properties\": {\n        \"dtype\": \"number\",\n        \"std\": 10671.681928672424,\n        \"min\": 0.0,\n        \"max\": 30641.0,\n        \"num_unique_values\": 8,\n        \"samples\": [\n          499.5566071603407,\n          500.0,\n          30641.0\n        ],\n        \"semantic_type\": \"\",\n        \"description\": \"\"\n      }\n    },\n    {\n      \"column\": \"NrSiblings\",\n      \"properties\": {\n        \"dtype\": \"Float64\",\n        \"num_unique_values\": 8,\n        \"samples\": [\n          2.1458942516082424,\n          2.0,\n          29069.0\n        ],\n        \"semantic_type\": \"\",\n        \"description\": \"\"\n      }\n    },\n    {\n      \"column\": \"MathScore\",\n      \"properties\": {\n        \"dtype\": \"number\",\n        \"std\": 10813.938124618964,\n        \"min\": 0.0,\n        \"max\": 30641.0,\n        \"num_unique_values\": 8,\n        \"samples\": [\n          66.5584021409223,\n          67.0,\n          30641.0\n        ],\n        \"semantic_type\": \"\",\n        \"description\": \"\"\n      }\n    },\n    {\n      \"column\": \"ReadingScore\",\n      \"properties\": {\n        \"dtype\": \"number\",\n        \"std\": 10812.912200605591,\n        \"min\": 10.0,\n        \"max\": 30641.0,\n        \"num_unique_values\": 8,\n        \"samples\": [\n          69.37753337032082,\n          70.0,\n          30641.0\n        ],\n        \"semantic_type\": \"\",\n        \"description\": \"\"\n      }\n    },\n    {\n      \"column\": \"WritingScore\",\n      \"properties\": {\n        \"dtype\": \"number\",\n        \"std\": 10813.383566214232,\n        \"min\": 4.0,\n        \"max\": 30641.0,\n        \"num_unique_values\": 8,\n        \"samples\": [\n          68.41862210763357,\n          69.0,\n          30641.0\n        ],\n        \"semantic_type\": \"\",\n        \"description\": \"\"\n      }\n    }\n  ]\n}"
            }
          },
          "metadata": {},
          "execution_count": 48
        }
      ]
    },
    {
      "cell_type": "code",
      "source": [
        "#we can see that the number of Siblings mean is 2 so :\n",
        "df['NrSiblings'].fillna(2, inplace=True)"
      ],
      "metadata": {
        "id": "wD0Tyc7v-clx"
      },
      "execution_count": null,
      "outputs": []
    },
    {
      "cell_type": "code",
      "source": [
        "df[\"WklyStudyHours\"].mode()\n",
        "#check the mode"
      ],
      "metadata": {
        "colab": {
          "base_uri": "https://localhost:8080/"
        },
        "id": "ELarxrrf-lNN",
        "outputId": "cdba1e05-a9f6-4d5e-f730-28d255db7018"
      },
      "execution_count": null,
      "outputs": [
        {
          "output_type": "execute_result",
          "data": {
            "text/plain": [
              "0    5 - 10\n",
              "Name: WklyStudyHours, dtype: object"
            ]
          },
          "metadata": {},
          "execution_count": 4
        }
      ]
    },
    {
      "cell_type": "code",
      "source": [
        "df['WklyStudyHours'].fillna(5 - 10, inplace=True)\n",
        "#fill the null '5 - 10'"
      ],
      "metadata": {
        "id": "KxaeewVM-rrE"
      },
      "execution_count": null,
      "outputs": []
    },
    {
      "cell_type": "code",
      "source": [
        "df[\"ParentMaritalStatus\"].mode()\n",
        "#check the mode"
      ],
      "metadata": {
        "colab": {
          "base_uri": "https://localhost:8080/"
        },
        "id": "EyaDjBd2-yCr",
        "outputId": "f3002450-4739-4633-841d-1aaecf94ad7b"
      },
      "execution_count": null,
      "outputs": [
        {
          "output_type": "execute_result",
          "data": {
            "text/plain": [
              "0    married\n",
              "Name: ParentMaritalStatus, dtype: object"
            ]
          },
          "metadata": {},
          "execution_count": 52
        }
      ]
    },
    {
      "cell_type": "code",
      "source": [
        "df['ParentMaritalStatus'].fillna(\"married\", inplace=True)\n",
        "#fill the null 'married'"
      ],
      "metadata": {
        "id": "RnVTbQ69-0Ej"
      },
      "execution_count": null,
      "outputs": []
    },
    {
      "cell_type": "code",
      "source": [
        "df['IsFirstChild'].fillna(\"Unkown\", inplace=True)\n",
        "# we don't know if this student if he/she the 1st child or not."
      ],
      "metadata": {
        "id": "PY0wS9GP-0Cw"
      },
      "execution_count": null,
      "outputs": []
    },
    {
      "cell_type": "code",
      "source": [
        "df[\"PracticeSport\"].mode()\n",
        "#check the mode"
      ],
      "metadata": {
        "colab": {
          "base_uri": "https://localhost:8080/"
        },
        "id": "fq3Zazwk-0AY",
        "outputId": "b4d9e643-4215-4c26-bb72-641805cd6d1e"
      },
      "execution_count": null,
      "outputs": [
        {
          "output_type": "execute_result",
          "data": {
            "text/plain": [
              "0    sometimes\n",
              "Name: PracticeSport, dtype: object"
            ]
          },
          "metadata": {},
          "execution_count": 55
        }
      ]
    },
    {
      "cell_type": "code",
      "source": [
        "df['PracticeSport'].fillna(\"sometimes\", inplace=True)\n",
        "# fill with the mode"
      ],
      "metadata": {
        "id": "TgEj43V1-z-K"
      },
      "execution_count": null,
      "outputs": []
    },
    {
      "cell_type": "code",
      "source": [
        "df[\"TransportMeans\"].mode()\n",
        "#check the mode"
      ],
      "metadata": {
        "colab": {
          "base_uri": "https://localhost:8080/"
        },
        "id": "0N2jCD2S_k8R",
        "outputId": "c1ef0913-b11d-4234-ac71-18aaffdb7352"
      },
      "execution_count": null,
      "outputs": [
        {
          "output_type": "execute_result",
          "data": {
            "text/plain": [
              "0    school_bus\n",
              "Name: TransportMeans, dtype: object"
            ]
          },
          "metadata": {},
          "execution_count": 8
        }
      ]
    },
    {
      "cell_type": "code",
      "source": [
        "df['TransportMeans'].fillna(\"school_bus\", inplace=True)\n",
        "# fill with the mode"
      ],
      "metadata": {
        "id": "vuTWVRV7_rKP"
      },
      "execution_count": null,
      "outputs": []
    },
    {
      "cell_type": "code",
      "source": [
        "# now we check if the dataset still have nulls value or no\n",
        "df.isnull().sum()"
      ],
      "metadata": {
        "colab": {
          "base_uri": "https://localhost:8080/"
        },
        "id": "SQjQlB9r_ZHz",
        "outputId": "4d71099f-d8e9-407a-8cdd-5567037e1ec4"
      },
      "execution_count": null,
      "outputs": [
        {
          "output_type": "execute_result",
          "data": {
            "text/plain": [
              "Unnamed: 0             0\n",
              "Gender                 0\n",
              "EthnicGroup            0\n",
              "ParentEduc             0\n",
              "LunchType              0\n",
              "TestPrep               0\n",
              "ParentMaritalStatus    0\n",
              "PracticeSport          0\n",
              "IsFirstChild           0\n",
              "NrSiblings             0\n",
              "TransportMeans         0\n",
              "WklyStudyHours         0\n",
              "MathScore              0\n",
              "ReadingScore           0\n",
              "WritingScore           0\n",
              "dtype: int64"
            ]
          },
          "metadata": {},
          "execution_count": 59
        }
      ]
    },
    {
      "cell_type": "markdown",
      "source": [
        "### **That's great , now we can findout what is the Correlations?**\n",
        "\n",
        "![WhatsApp Image 2024-07-25 at 15.17.58_f552ec4c.jpg](data:image/jpeg;base64,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)\n",
        "\n",
        "`Correlations` : is a statistical measure that expresses the extent to which two variables are linearly related.\n",
        "\n",
        "\n",
        "We can find Correlations from the Features (Columns) in this dataset using heat map from seaborne lib. Let's see how it works:\n"
      ],
      "metadata": {
        "id": "OH8P9hCL_wJS"
      }
    },
    {
      "cell_type": "markdown",
      "source": [
        "### Do you think the parent Education might effect in the students score?\n",
        "# Let's see :)"
      ],
      "metadata": {
        "id": "Fo_mTrKo9gdc"
      }
    },
    {
      "cell_type": "code",
      "source": [
        "# create a new df we can call it df1 to make a groupby bettwen ParentEduc and the mean of the score of each test like this :\n",
        "\n",
        "df1=df.groupby(\"ParentEduc\").agg({\"MathScore\":'mean',\"ReadingScore\":'mean',\"WritingScore\":'mean'} , inplace = True)\n",
        "print(df1)"
      ],
      "metadata": {
        "colab": {
          "base_uri": "https://localhost:8080/"
        },
        "id": "ar7vVwf2A3zo",
        "outputId": "065cf3fe-9a31-40a1-f1f2-73c7c13c238e"
      },
      "execution_count": null,
      "outputs": [
        {
          "output_type": "stream",
          "name": "stdout",
          "text": [
            "                    MathScore  ReadingScore  WritingScore\n",
            "ParentEduc                                               \n",
            "associate's degree  68.365586     71.124324     70.299099\n",
            "bachelor's degree   70.466627     73.062020     73.331069\n",
            "high school         64.435731     67.213997     65.421136\n",
            "master's degree     72.336134     75.832921     76.356896\n",
            "some college        66.390472     69.179708     68.501432\n",
            "some high school    62.584013     65.510785     63.632409\n"
          ]
        }
      ]
    },
    {
      "cell_type": "code",
      "source": [
        "# now we can do the heatmap :\n",
        "\n",
        "sns.heatmap(df1 , annot= True)\n",
        "plt.title(\"how parent's Education effect on student's score\")\n",
        "plt.show()"
      ],
      "metadata": {
        "colab": {
          "base_uri": "https://localhost:8080/",
          "height": 452
        },
        "id": "zuEf1nECBDlS",
        "outputId": "3632b1ed-7b76-45f7-a627-0afbaa081471"
      },
      "execution_count": null,
      "outputs": [
        {
          "output_type": "display_data",
          "data": {
            "text/plain": [
              "<Figure size 640x480 with 2 Axes>"
            ],
            "image/png": "[encoded data removed]"
          },
          "metadata": {}
        }
      ]
    },
    {
      "cell_type": "markdown",
      "source": [
        "**Now we can see the correlations bettwen the parents who have master degree the students Scores.**\n",
        "\n",
        "**So we can findout : That the student's who have High scores there parents have master dgree.**\n",
        "\n"
      ],
      "metadata": {
        "id": "33x5y6MFB5Ns"
      }
    },
    {
      "cell_type": "markdown",
      "source": [
        "#**Now it's your turn to find out more correlations the same way we did before**\n",
        "###**Fill the '-----' with your thoughts.**"
      ],
      "metadata": {
        "id": "KDCYcsl6DbdS"
      }
    },
    {
      "cell_type": "code",
      "source": [
        "df2=df.groupby(\"LunchType\").agg({\"MathScore\":'mean',\"ReadingScore\":'mean',\"WritingScore\":'mean'} , inplace = True)\n",
        "print(df2)"
      ],
      "metadata": {
        "id": "hmnw1pk7Dd17",
        "colab": {
          "base_uri": "https://localhost:8080/"
        },
        "outputId": "d5060fe3-0bc1-4e7e-a9f3-4c29cb83fb0a"
      },
      "execution_count": null,
      "outputs": [
        {
          "output_type": "stream",
          "name": "stdout",
          "text": [
            "              MathScore  ReadingScore  WritingScore\n",
            "LunchType                                          \n",
            "free/reduced  58.862332     64.189735     62.650522\n",
            "standard      70.709370     72.175634     71.529716\n"
          ]
        }
      ]
    },
    {
      "cell_type": "code",
      "source": [
        "df2=df.groupby(\"TestPrep\").agg({\"MathScore\":'mean',\"ReadingScore\":'mean',\"WritingScore\":'mean'} , inplace = True)\n",
        "print(df2)"
      ],
      "metadata": {
        "colab": {
          "base_uri": "https://localhost:8080/"
        },
        "id": "OxqEdzeU5udX",
        "outputId": "1f74f719-ad7e-4f9d-9ccd-ea5d205e987d"
      },
      "execution_count": null,
      "outputs": [
        {
          "output_type": "stream",
          "name": "stdout",
          "text": [
            "           MathScore  ReadingScore  WritingScore\n",
            "TestPrep                                        \n",
            "completed   69.54666     73.732998     74.703265\n",
            "none        64.94877     67.051071     65.092756\n"
          ]
        }
      ]
    },
    {
      "cell_type": "code",
      "source": [
        "plt.figure(figsize=(5,5))\n",
        "sns.heatmap(df2 , annot= True)\n",
        "plt.title(\"-------\")\n",
        "plt.show()"
      ],
      "metadata": {
        "id": "JS2R4qqpDduR"
      },
      "execution_count": null,
      "outputs": []
    },
    {
      "cell_type": "markdown",
      "source": [
        "#**Now you can start working in finding out the Correlations with your own :**"
      ],
      "metadata": {
        "id": "5FgpEWNoDyIj"
      }
    },
    {
      "cell_type": "code",
      "source": [],
      "metadata": {
        "id": "BkuXx8HTDdaf"
      },
      "execution_count": null,
      "outputs": []
    },
    {
      "cell_type": "code",
      "source": [],
      "metadata": {
        "id": "5slJNYy5XwtT"
      },
      "execution_count": null,
      "outputs": []
    },
    {
      "cell_type": "code",
      "source": [
        "Gendor=df.Gender.value_counts()\n",
        "print(Gendor)"
      ],
      "metadata": {
        "id": "Gfk8NNwNECNC",
        "colab": {
          "base_uri": "https://localhost:8080/"
        },
        "outputId": "335e87d6-6814-420b-94d8-7249358f341e"
      },
      "execution_count": null,
      "outputs": [
        {
          "output_type": "stream",
          "name": "stdout",
          "text": [
            "Gender\n",
            "female    15424\n",
            "male      15217\n",
            "Name: count, dtype: int64\n"
          ]
        }
      ]
    },
    {
      "cell_type": "code",
      "source": [
        "plt.pie(Gendor)\n",
        "plt.pie(Gendor,labels=Gendor.index,autopct='%1.1f%%')\n",
        "plt.show()\n"
      ],
      "metadata": {
        "colab": {
          "base_uri": "https://localhost:8080/",
          "height": 406
        },
        "id": "wI-ozREDZVFG",
        "outputId": "9376fe38-e1f5-487a-b74c-25a9b21ffa7e"
      },
      "execution_count": null,
      "outputs": [
        {
          "output_type": "display_data",
          "data": {
            "text/plain": [
              "<Figure size 640x480 with 1 Axes>"
            ],
            "image/png": "[encoded data removed]"
          },
          "metadata": {}
        }
      ]
    },
    {
      "cell_type": "code",
      "source": [
        "df['ReadingScore'].max()\n"
      ],
      "metadata": {
        "colab": {
          "base_uri": "https://localhost:8080/"
        },
        "id": "IJjSKVj7dA46",
        "outputId": "d89d27b2-9266-48d8-b877-4e8b21578550"
      },
      "execution_count": null,
      "outputs": [
        {
          "output_type": "execute_result",
          "data": {
            "text/plain": [
              "100"
            ]
          },
          "metadata": {},
          "execution_count": 32
        }
      ]
    },
    {
      "cell_type": "code",
      "source": [
        "df['WritingScore'].max()"
      ],
      "metadata": {
        "colab": {
          "base_uri": "https://localhost:8080/"
        },
        "id": "QosF02V0gSCw",
        "outputId": "65ce304c-d885-408d-f977-a7a5813e28bb"
      },
      "execution_count": null,
      "outputs": [
        {
          "output_type": "execute_result",
          "data": {
            "text/plain": [
              "100"
            ]
          },
          "metadata": {},
          "execution_count": 31
        }
      ]
    },
    {
      "cell_type": "code",
      "source": [
        "df['MathScore'].max()"
      ],
      "metadata": {
        "colab": {
          "base_uri": "https://localhost:8080/"
        },
        "id": "UuM9Rn8Vg-TP",
        "outputId": "5258e809-6f01-453f-806c-caaa4b86fc50"
      },
      "execution_count": null,
      "outputs": [
        {
          "output_type": "execute_result",
          "data": {
            "text/plain": [
              "100"
            ]
          },
          "metadata": {},
          "execution_count": 37
        }
      ]
    },
    {
      "cell_type": "code",
      "source": [
        "df.boxplot('WritingScore')\n"
      ],
      "metadata": {
        "colab": {
          "base_uri": "https://localhost:8080/",
          "height": 447
        },
        "id": "FV3qlwcHgX0B",
        "outputId": "ab33bcc5-48f0-4406-d917-9372ab58496e"
      },
      "execution_count": null,
      "outputs": [
        {
          "output_type": "execute_result",
          "data": {
            "text/plain": [
              "<Axes: >"
            ]
          },
          "metadata": {},
          "execution_count": 58
        },
        {
          "output_type": "display_data",
          "data": {
            "text/plain": [
              "<Figure size 640x480 with 1 Axes>"
            ],
            "image/png": "[encoded data removed]"
          },
          "metadata": {}
        }
      ]
    },
    {
      "cell_type": "code",
      "source": [
        "df.boxplot(column='ReadingScore')"
      ],
      "metadata": {
        "colab": {
          "base_uri": "https://localhost:8080/",
          "height": 447
        },
        "id": "Ct9GV8BMgnvQ",
        "outputId": "ca3393bc-ed30-411c-a4f6-3af7c7924b56"
      },
      "execution_count": null,
      "outputs": [
        {
          "output_type": "execute_result",
          "data": {
            "text/plain": [
              "<Axes: >"
            ]
          },
          "metadata": {},
          "execution_count": 36
        },
        {
          "output_type": "display_data",
          "data": {
            "text/plain": [
              "<Figure size 640x480 with 1 Axes>"
            ],
            "image/png": "[encoded data removed]"
          },
          "metadata": {}
        }
      ]
    },
    {
      "cell_type": "code",
      "source": [
        "df.boxplot(column='MathScore')"
      ],
      "metadata": {
        "colab": {
          "base_uri": "https://localhost:8080/",
          "height": 447
        },
        "id": "OKs1Rs4EhIdZ",
        "outputId": "7e3becdb-4914-4845-98dc-948060df66fe"
      },
      "execution_count": null,
      "outputs": [
        {
          "output_type": "execute_result",
          "data": {
            "text/plain": [
              "<Axes: >"
            ]
          },
          "metadata": {},
          "execution_count": 39
        },
        {
          "output_type": "display_data",
          "data": {
            "text/plain": [
              "<Figure size 640x480 with 1 Axes>"
            ],
            "image/png": "[encoded data removed]"
          },
          "metadata": {}
        }
      ]
    },
    {
      "cell_type": "code",
      "source": [
        "A=df[['MathScore','ReadingScore','WritingScore']]\n",
        "print(A)\n",
        "plt.boxplot(A)\n",
        "plt.show()"
      ],
      "metadata": {
        "colab": {
          "base_uri": "https://localhost:8080/",
          "height": 673
        },
        "id": "d6QwgjCXzSef",
        "outputId": "94abebd9-ff75-4e87-f3b6-677dd5cbf618"
      },
      "execution_count": null,
      "outputs": [
        {
          "output_type": "stream",
          "name": "stdout",
          "text": [
            "       MathScore  ReadingScore  WritingScore\n",
            "0             71            71            74\n",
            "1             69            90            88\n",
            "2             87            93            91\n",
            "3             45            56            42\n",
            "4             76            78            75\n",
            "...          ...           ...           ...\n",
            "30636         59            61            65\n",
            "30637         58            53            51\n",
            "30638         61            70            67\n",
            "30639         82            90            93\n",
            "30640         64            60            58\n",
            "\n",
            "[30641 rows x 3 columns]\n"
          ]
        },
        {
          "output_type": "display_data",
          "data": {
            "text/plain": [
              "<Figure size 640x480 with 1 Axes>"
            ],
            "image/png": "[encoded data removed]"
          },
          "metadata": {}
        }
      ]
    }
  ]
}